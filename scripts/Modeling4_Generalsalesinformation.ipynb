{
 "cells": [
  {
   "cell_type": "markdown",
   "metadata": {},
   "source": [
    "## Lybraries Import"
   ]
  },
  {
   "cell_type": "code",
   "execution_count": 2,
   "metadata": {},
   "outputs": [],
   "source": [
    "from os.path import join\n",
    "import pandas as pd\n",
    "import numpy as np\n",
    "import matplotlib.pyplot as plt\n",
    "import seaborn as sns\n",
    "import matplotlib.cm as cm\n",
    "from sklearn.metrics import silhouette_score, silhouette_samples\n",
    "from yellowbrick.cluster import SilhouetteVisualizer\n",
    "from yellowbrick.cluster.elbow import KElbowVisualizer\n",
    "from sklearn.mixture import GaussianMixture\n",
    "from IPython.display import YouTubeVideo\n",
    "import matplotlib.pyplot as plt\n",
    "from sklearn.cluster import KMeans, AgglomerativeClustering\n",
    "from sklearn.neighbors import KNeighborsClassifier\n",
    "from scipy.cluster.hierarchy import dendrogram\n",
    "\n",
    "import sompy\n",
    "from sompy.visualization.mapview import View2D\n",
    "from sompy.visualization.bmuhits import BmuHitsView\n",
    "from sompy.visualization.hitmap import HitMapView"
   ]
  },
  {
   "cell_type": "markdown",
   "metadata": {},
   "source": [
    "## 1.Functions"
   ]
  },
  {
   "cell_type": "code",
   "execution_count": 4,
   "metadata": {},
   "outputs": [],
   "source": [
    "def number_clusters(df,cluster_model):\n",
    "    metrics=['silhouette','distortion','calinski_harabasz']\n",
    "    model=cluster_model\n",
    "    for score in metrics:\n",
    "        plt.figure()\n",
    "        plt.ylabel(score)\n",
    "        plt.xlabel('Number of clusters')\n",
    "        Visualizer=KElbowVisualizer(model,metric=score).fit(df)\n",
    "        plt.show"
   ]
  },
  {
   "cell_type": "code",
   "execution_count": 5,
   "metadata": {},
   "outputs": [],
   "source": [
    "def cluster_profiles(df, label_columns, figsize, compar_titles=None):\n",
    "    \"\"\"\n",
    "    Pass df with labels columns of one or multiple clustering labels. \n",
    "    Then specify this label columns to perform the cluster profile according to them.\n",
    "    \"\"\"\n",
    "    if compar_titles == None:\n",
    "        compar_titles = [\"\"]*len(label_columns)\n",
    "        \n",
    "    sns.set()\n",
    "    fig, axes = plt.subplots(nrows=len(label_columns), ncols=2, figsize=figsize, squeeze=False)\n",
    "    for ax, label, titl in zip(axes, label_columns, compar_titles):\n",
    "        # Filtering df\n",
    "        drop_cols = [i for i in label_columns if i!=label]\n",
    "        dfax = df.drop(drop_cols, axis=1)\n",
    "        \n",
    "        # Getting the cluster centroids and counts\n",
    "        centroids = dfax.groupby(by=label, as_index=False).mean()\n",
    "        counts = dfax.groupby(by=label, as_index=False).count().iloc[:,[0,1]]\n",
    "        counts.columns = [label, \"counts\"]\n",
    "        \n",
    "        # Setting Data\n",
    "        pd.plotting.parallel_coordinates(centroids, label, color=sns.color_palette(), ax=ax[0])\n",
    "        sns.barplot(x=label, y=\"counts\", data=counts, ax=ax[1])\n",
    "\n",
    "        #Setting Layout\n",
    "        handles, _ = ax[0].get_legend_handles_labels()\n",
    "        cluster_labels = [\"Cluster {}\".format(i) for i in range(len(handles))]\n",
    "        ax[0].annotate(text=titl, xy=(0.95,1.1), xycoords='axes fraction', fontsize=13, fontweight = 'heavy') \n",
    "        ax[0].legend(handles, cluster_labels) # Adaptable to number of clusters\n",
    "        ax[0].axhline(color=\"black\", linestyle=\"--\")\n",
    "        ax[0].set_title(\"Cluster Means - {} Clusters\".format(len(handles)), fontsize=13)\n",
    "        ax[0].set_xticklabels(ax[0].get_xticklabels(), rotation=-20)\n",
    "        ax[1].set_xticklabels(cluster_labels)\n",
    "        ax[1].set_xlabel(\"\")\n",
    "        ax[1].set_ylabel(\"Absolute Frequency\")\n",
    "        ax[1].set_title(\"Cluster Sizes - {} Clusters\".format(len(handles)), fontsize=13)\n",
    "    \n",
    "    plt.subplots_adjust(hspace=0.4, top=0.90)\n",
    "    plt.suptitle(\"Cluster Simple Profilling\", fontsize=23)\n",
    "    plt.show()"
   ]
  },
  {
   "cell_type": "code",
   "execution_count": 6,
   "metadata": {},
   "outputs": [],
   "source": [
    "def gmm_config(data,limit_nrcomponents):\n",
    "    bic_values =[]\n",
    "    aic_values =[]\n",
    "    types_covariance=['full','diag','spherical']\n",
    "    for i in types_covariance:\n",
    "        n_components = np.arange(1, limit_nrcomponents)\n",
    "        models = [GaussianMixture(n, covariance_type=i, n_init=10, random_state=1).fit(data)\n",
    "                  for n in n_components]\n",
    "        bic_values.append([m.bic(data) for m in models])\n",
    "        aic_values.append([m.aic(data) for m in models])\n",
    "    #barplot for BIC\n",
    "    bic=plt.figure(1)\n",
    "    X = np.arange(1,limit_nrcomponents)\n",
    "    plt.bar(X + 0.00, bic_values[0], label='full' ,color = 'b', width = 0.3)\n",
    "    plt.bar(X + 0.25, bic_values[1], label='diag',color = 'g', width = 0.3)\n",
    "    plt.bar(X + 0.50, bic_values[2], label='spherical',color = 'r', width = 0.3)\n",
    "    plt.xlabel('number of components')\n",
    "    plt.ylabel('BIC')\n",
    "    plt.legend(loc='best')\n",
    "   #barplot for AIC\n",
    "    aic=plt.figure(2)\n",
    "    X = np.arange(1,limit_nrcomponents)\n",
    "    plt.bar(X + 0.00, aic_values[0], label='full' ,color = 'b', width = 0.3)\n",
    "    plt.bar(X + 0.25, aic_values[1], label='diag',color = 'g', width = 0.3)\n",
    "    plt.bar(X + 0.50, aic_values[2], label='spherical',color = 'r', width = 0.3)\n",
    "    plt.xlabel('number of components')\n",
    "    plt.ylabel('AIC')\n",
    "    plt.legend(loc='best')\n",
    "    bic.show\n",
    "    aic.show"
   ]
  },
  {
   "cell_type": "code",
   "execution_count": 7,
   "metadata": {},
   "outputs": [],
   "source": [
    "def get_r2_hc(df, link_method, max_nclus, min_nclus=1, dist=\"euclidean\"):\n",
    "    \"\"\"This function computes the R2 for a set of cluster solutions given by the application of a hierarchical method.\n",
    "    The R2 is a measure of the homogenity of a cluster solution. It is based on SSt = SSw + SSb and R2 = SSb/SSt. \n",
    "    \n",
    "    Parameters:\n",
    "    df (DataFrame): Dataset to apply clustering\n",
    "    link_method (str): either \"ward\", \"complete\", \"average\", \"single\"\n",
    "    max_nclus (int): maximum number of clusters to compare the methods\n",
    "    min_nclus (int): minimum number of clusters to compare the methods. Defaults to 1.\n",
    "    dist (str): distance to use to compute the clustering solution. Must be a valid distance. Defaults to \"euclidean\".\n",
    "    \n",
    "    Returns:\n",
    "    ndarray: R2 values for the range of cluster solutions\n",
    "    \"\"\"\n",
    "    def get_ss(df):\n",
    "        ss = np.sum(df.var() * (df.count() - 1))\n",
    "        return ss  # return sum of sum of squares of each df variable\n",
    "    \n",
    "    sst = get_ss(df)  # get total sum of squares\n",
    "    \n",
    "    r2 = []  # where we will store the R2 metrics for each cluster solution\n",
    "    \n",
    "    for i in range(min_nclus, max_nclus+1):  # iterate over desired ncluster range\n",
    "        cluster = AgglomerativeClustering(n_clusters=i, affinity=dist, linkage=link_method)\n",
    "        hclabels = cluster.fit_predict(df) #get cluster labels\n",
    "        df_concat = pd.concat((df, pd.Series(hclabels, name='labels')), axis=1)  # concat df with labels\n",
    "        ssw_labels = df_concat.groupby(by='labels').apply(get_ss)  # compute ssw for each cluster labels\n",
    "        ssb = sst - np.sum(ssw_labels)  # remember: SST = SSW + SSB\n",
    "        r2.append(ssb / sst)  # save the R2 of the given cluster solution\n",
    "        \n",
    "    return np.array(r2)"
   ]
  },
  {
   "cell_type": "code",
   "execution_count": 8,
   "metadata": {},
   "outputs": [],
   "source": [
    "#on 'type_covariance'-you have to insert with '', for example 'full'\n",
    "def gmm_components(data,type_covariance,min_components,max_components):\n",
    "    # Selecting number of components based on AIC and BIC\n",
    "    n_components = np.arange(min_components,max_components)\n",
    "    models = [GaussianMixture(n, covariance_type=type_covariance, n_init=10, random_state=1).fit(data)\n",
    "              for n in n_components]\n",
    "\n",
    "    bic_values = [m.bic(data) for m in models]\n",
    "    aic_values = [m.aic(data) for m in models]\n",
    "    plt.plot(n_components, bic_values, label='BIC')\n",
    "    plt.plot(n_components, aic_values, label='AIC')\n",
    "    plt.legend(loc='best')\n",
    "    plt.xlabel('n_components')\n",
    "    plt.xticks(n_components)\n",
    "    plt.show()"
   ]
  },
  {
   "cell_type": "markdown",
   "metadata": {},
   "source": [
    "# 2.Load the Perspective Dataset"
   ]
  },
  {
   "cell_type": "code",
   "execution_count": 10,
   "metadata": {},
   "outputs": [],
   "source": [
    "normalized_df = pd.read_csv(r'C:\\Users\\gonca\\Documents\\BC1_GroupS\\data\\Cleaned_data.csv') "
   ]
  },
  {
   "cell_type": "code",
   "execution_count": 14,
   "metadata": {},
   "outputs": [
    {
     "data": {
      "text/html": [
       "<div>\n",
       "<style scoped>\n",
       "    .dataframe tbody tr th:only-of-type {\n",
       "        vertical-align: middle;\n",
       "    }\n",
       "\n",
       "    .dataframe tbody tr th {\n",
       "        vertical-align: top;\n",
       "    }\n",
       "\n",
       "    .dataframe thead th {\n",
       "        text-align: right;\n",
       "    }\n",
       "</style>\n",
       "<table border=\"1\" class=\"dataframe\">\n",
       "  <thead>\n",
       "    <tr style=\"text-align: right;\">\n",
       "      <th></th>\n",
       "      <th>Unnamed: 0</th>\n",
       "      <th>Dayswus</th>\n",
       "      <th>Age</th>\n",
       "      <th>Edu</th>\n",
       "      <th>Income</th>\n",
       "      <th>Kidhome</th>\n",
       "      <th>Teenhome</th>\n",
       "      <th>Freq</th>\n",
       "      <th>Recency</th>\n",
       "      <th>Monetary</th>\n",
       "      <th>...</th>\n",
       "      <th>WebVisit</th>\n",
       "      <th>SMRack</th>\n",
       "      <th>LGRack</th>\n",
       "      <th>Humid</th>\n",
       "      <th>Spcork</th>\n",
       "      <th>Bucket</th>\n",
       "      <th>Access</th>\n",
       "      <th>Complain</th>\n",
       "      <th>Mailfriend</th>\n",
       "      <th>Emailfriend</th>\n",
       "    </tr>\n",
       "  </thead>\n",
       "  <tbody>\n",
       "    <tr>\n",
       "      <th>0</th>\n",
       "      <td>0</td>\n",
       "      <td>-0.347682</td>\n",
       "      <td>0.084213</td>\n",
       "      <td>0.492809</td>\n",
       "      <td>0.055831</td>\n",
       "      <td>-0.229303</td>\n",
       "      <td>-0.296554</td>\n",
       "      <td>0.109243</td>\n",
       "      <td>-0.293349</td>\n",
       "      <td>0.072820</td>\n",
       "      <td>...</td>\n",
       "      <td>-0.012869</td>\n",
       "      <td>-0.082748</td>\n",
       "      <td>-0.083159</td>\n",
       "      <td>-0.087196</td>\n",
       "      <td>-0.079548</td>\n",
       "      <td>-0.032848</td>\n",
       "      <td>-0.133638</td>\n",
       "      <td>-0.030661</td>\n",
       "      <td>-0.085998</td>\n",
       "      <td>-0.053238</td>\n",
       "    </tr>\n",
       "    <tr>\n",
       "      <th>1</th>\n",
       "      <td>1</td>\n",
       "      <td>0.118826</td>\n",
       "      <td>0.260030</td>\n",
       "      <td>0.093857</td>\n",
       "      <td>0.207936</td>\n",
       "      <td>-0.132845</td>\n",
       "      <td>-0.171806</td>\n",
       "      <td>0.294338</td>\n",
       "      <td>-0.094499</td>\n",
       "      <td>0.314564</td>\n",
       "      <td>...</td>\n",
       "      <td>-0.078852</td>\n",
       "      <td>-0.047940</td>\n",
       "      <td>-0.048178</td>\n",
       "      <td>-0.050516</td>\n",
       "      <td>0.601013</td>\n",
       "      <td>-0.019030</td>\n",
       "      <td>-0.077422</td>\n",
       "      <td>-0.017763</td>\n",
       "      <td>-0.049822</td>\n",
       "      <td>-0.030843</td>\n",
       "    </tr>\n",
       "    <tr>\n",
       "      <th>2</th>\n",
       "      <td>2</td>\n",
       "      <td>0.091302</td>\n",
       "      <td>-0.064435</td>\n",
       "      <td>-0.071185</td>\n",
       "      <td>-0.056779</td>\n",
       "      <td>0.151771</td>\n",
       "      <td>0.117353</td>\n",
       "      <td>-0.143139</td>\n",
       "      <td>-0.021189</td>\n",
       "      <td>-0.121760</td>\n",
       "      <td>...</td>\n",
       "      <td>0.098515</td>\n",
       "      <td>-0.034896</td>\n",
       "      <td>-0.035069</td>\n",
       "      <td>-0.036772</td>\n",
       "      <td>-0.033547</td>\n",
       "      <td>-0.013853</td>\n",
       "      <td>-0.056357</td>\n",
       "      <td>-0.012930</td>\n",
       "      <td>0.404677</td>\n",
       "      <td>0.653701</td>\n",
       "    </tr>\n",
       "    <tr>\n",
       "      <th>3</th>\n",
       "      <td>3</td>\n",
       "      <td>-0.072627</td>\n",
       "      <td>-0.052335</td>\n",
       "      <td>-0.143322</td>\n",
       "      <td>-0.075243</td>\n",
       "      <td>-0.194696</td>\n",
       "      <td>0.236278</td>\n",
       "      <td>-0.288194</td>\n",
       "      <td>-0.359654</td>\n",
       "      <td>-0.245540</td>\n",
       "      <td>...</td>\n",
       "      <td>0.093712</td>\n",
       "      <td>-0.070260</td>\n",
       "      <td>-0.070609</td>\n",
       "      <td>-0.074036</td>\n",
       "      <td>-0.067543</td>\n",
       "      <td>-0.027891</td>\n",
       "      <td>-0.113469</td>\n",
       "      <td>-0.026034</td>\n",
       "      <td>-0.073019</td>\n",
       "      <td>-0.045203</td>\n",
       "    </tr>\n",
       "    <tr>\n",
       "      <th>4</th>\n",
       "      <td>4</td>\n",
       "      <td>0.020243</td>\n",
       "      <td>0.049439</td>\n",
       "      <td>0.369257</td>\n",
       "      <td>0.027139</td>\n",
       "      <td>-0.171815</td>\n",
       "      <td>-0.222205</td>\n",
       "      <td>0.025825</td>\n",
       "      <td>-0.226309</td>\n",
       "      <td>-0.003120</td>\n",
       "      <td>...</td>\n",
       "      <td>-0.009643</td>\n",
       "      <td>-0.062002</td>\n",
       "      <td>-0.062310</td>\n",
       "      <td>-0.065335</td>\n",
       "      <td>-0.059605</td>\n",
       "      <td>-0.024613</td>\n",
       "      <td>-0.100134</td>\n",
       "      <td>-0.022974</td>\n",
       "      <td>0.719018</td>\n",
       "      <td>-0.039890</td>\n",
       "    </tr>\n",
       "  </tbody>\n",
       "</table>\n",
       "<p>5 rows × 29 columns</p>\n",
       "</div>"
      ],
      "text/plain": [
       "   Unnamed: 0   Dayswus       Age       Edu    Income   Kidhome  Teenhome  \\\n",
       "0           0 -0.347682  0.084213  0.492809  0.055831 -0.229303 -0.296554   \n",
       "1           1  0.118826  0.260030  0.093857  0.207936 -0.132845 -0.171806   \n",
       "2           2  0.091302 -0.064435 -0.071185 -0.056779  0.151771  0.117353   \n",
       "3           3 -0.072627 -0.052335 -0.143322 -0.075243 -0.194696  0.236278   \n",
       "4           4  0.020243  0.049439  0.369257  0.027139 -0.171815 -0.222205   \n",
       "\n",
       "       Freq   Recency  Monetary  ...  WebVisit    SMRack    LGRack     Humid  \\\n",
       "0  0.109243 -0.293349  0.072820  ... -0.012869 -0.082748 -0.083159 -0.087196   \n",
       "1  0.294338 -0.094499  0.314564  ... -0.078852 -0.047940 -0.048178 -0.050516   \n",
       "2 -0.143139 -0.021189 -0.121760  ...  0.098515 -0.034896 -0.035069 -0.036772   \n",
       "3 -0.288194 -0.359654 -0.245540  ...  0.093712 -0.070260 -0.070609 -0.074036   \n",
       "4  0.025825 -0.226309 -0.003120  ... -0.009643 -0.062002 -0.062310 -0.065335   \n",
       "\n",
       "     Spcork    Bucket    Access  Complain  Mailfriend  Emailfriend  \n",
       "0 -0.079548 -0.032848 -0.133638 -0.030661   -0.085998    -0.053238  \n",
       "1  0.601013 -0.019030 -0.077422 -0.017763   -0.049822    -0.030843  \n",
       "2 -0.033547 -0.013853 -0.056357 -0.012930    0.404677     0.653701  \n",
       "3 -0.067543 -0.027891 -0.113469 -0.026034   -0.073019    -0.045203  \n",
       "4 -0.059605 -0.024613 -0.100134 -0.022974    0.719018    -0.039890  \n",
       "\n",
       "[5 rows x 29 columns]"
      ]
     },
     "execution_count": 14,
     "metadata": {},
     "output_type": "execute_result"
    }
   ],
   "source": [
    "normalized_df.head()"
   ]
  },
  {
   "cell_type": "code",
   "execution_count": 19,
   "metadata": {},
   "outputs": [
    {
     "data": {
      "text/html": [
       "<div>\n",
       "<style scoped>\n",
       "    .dataframe tbody tr th:only-of-type {\n",
       "        vertical-align: middle;\n",
       "    }\n",
       "\n",
       "    .dataframe tbody tr th {\n",
       "        vertical-align: top;\n",
       "    }\n",
       "\n",
       "    .dataframe thead th {\n",
       "        text-align: right;\n",
       "    }\n",
       "</style>\n",
       "<table border=\"1\" class=\"dataframe\">\n",
       "  <thead>\n",
       "    <tr style=\"text-align: right;\">\n",
       "      <th></th>\n",
       "      <th>Dayswus</th>\n",
       "      <th>Freq</th>\n",
       "      <th>Recency</th>\n",
       "      <th>Monetary</th>\n",
       "      <th>LTV</th>\n",
       "      <th>WebPurchase</th>\n",
       "      <th>WebVisit</th>\n",
       "      <th>Complain</th>\n",
       "      <th>Mailfriend</th>\n",
       "      <th>Emailfriend</th>\n",
       "    </tr>\n",
       "  </thead>\n",
       "  <tbody>\n",
       "    <tr>\n",
       "      <th>0</th>\n",
       "      <td>-0.347682</td>\n",
       "      <td>0.109243</td>\n",
       "      <td>-0.293349</td>\n",
       "      <td>0.072820</td>\n",
       "      <td>0.233365</td>\n",
       "      <td>-0.080774</td>\n",
       "      <td>-0.012869</td>\n",
       "      <td>-0.030661</td>\n",
       "      <td>-0.085998</td>\n",
       "      <td>-0.053238</td>\n",
       "    </tr>\n",
       "    <tr>\n",
       "      <th>1</th>\n",
       "      <td>0.118826</td>\n",
       "      <td>0.294338</td>\n",
       "      <td>-0.094499</td>\n",
       "      <td>0.314564</td>\n",
       "      <td>0.191573</td>\n",
       "      <td>-0.192675</td>\n",
       "      <td>-0.078852</td>\n",
       "      <td>-0.017763</td>\n",
       "      <td>-0.049822</td>\n",
       "      <td>-0.030843</td>\n",
       "    </tr>\n",
       "    <tr>\n",
       "      <th>2</th>\n",
       "      <td>0.091302</td>\n",
       "      <td>-0.143139</td>\n",
       "      <td>-0.021189</td>\n",
       "      <td>-0.121760</td>\n",
       "      <td>-0.098475</td>\n",
       "      <td>0.118582</td>\n",
       "      <td>0.098515</td>\n",
       "      <td>-0.012930</td>\n",
       "      <td>0.404677</td>\n",
       "      <td>0.653701</td>\n",
       "    </tr>\n",
       "    <tr>\n",
       "      <th>3</th>\n",
       "      <td>-0.072627</td>\n",
       "      <td>-0.288194</td>\n",
       "      <td>-0.359654</td>\n",
       "      <td>-0.245540</td>\n",
       "      <td>-0.189479</td>\n",
       "      <td>0.292201</td>\n",
       "      <td>0.093712</td>\n",
       "      <td>-0.026034</td>\n",
       "      <td>-0.073019</td>\n",
       "      <td>-0.045203</td>\n",
       "    </tr>\n",
       "    <tr>\n",
       "      <th>4</th>\n",
       "      <td>0.020243</td>\n",
       "      <td>0.025825</td>\n",
       "      <td>-0.226309</td>\n",
       "      <td>-0.003120</td>\n",
       "      <td>-0.026815</td>\n",
       "      <td>-0.060523</td>\n",
       "      <td>-0.009643</td>\n",
       "      <td>-0.022974</td>\n",
       "      <td>0.719018</td>\n",
       "      <td>-0.039890</td>\n",
       "    </tr>\n",
       "    <tr>\n",
       "      <th>...</th>\n",
       "      <td>...</td>\n",
       "      <td>...</td>\n",
       "      <td>...</td>\n",
       "      <td>...</td>\n",
       "      <td>...</td>\n",
       "      <td>...</td>\n",
       "      <td>...</td>\n",
       "      <td>...</td>\n",
       "      <td>...</td>\n",
       "      <td>...</td>\n",
       "    </tr>\n",
       "    <tr>\n",
       "      <th>8518</th>\n",
       "      <td>0.294799</td>\n",
       "      <td>-0.248057</td>\n",
       "      <td>0.118708</td>\n",
       "      <td>-0.244240</td>\n",
       "      <td>-0.255560</td>\n",
       "      <td>0.079266</td>\n",
       "      <td>0.241733</td>\n",
       "      <td>-0.031728</td>\n",
       "      <td>-0.088990</td>\n",
       "      <td>-0.055090</td>\n",
       "    </tr>\n",
       "    <tr>\n",
       "      <th>8519</th>\n",
       "      <td>-0.134744</td>\n",
       "      <td>-0.222586</td>\n",
       "      <td>-0.125383</td>\n",
       "      <td>-0.214188</td>\n",
       "      <td>-0.188248</td>\n",
       "      <td>0.312921</td>\n",
       "      <td>0.274299</td>\n",
       "      <td>-0.023569</td>\n",
       "      <td>-0.066105</td>\n",
       "      <td>-0.040923</td>\n",
       "    </tr>\n",
       "    <tr>\n",
       "      <th>8520</th>\n",
       "      <td>0.192187</td>\n",
       "      <td>0.048408</td>\n",
       "      <td>0.035953</td>\n",
       "      <td>0.028653</td>\n",
       "      <td>-0.019358</td>\n",
       "      <td>-0.127691</td>\n",
       "      <td>-0.078141</td>\n",
       "      <td>-0.017603</td>\n",
       "      <td>0.550922</td>\n",
       "      <td>-0.030565</td>\n",
       "    </tr>\n",
       "    <tr>\n",
       "      <th>8521</th>\n",
       "      <td>-0.360550</td>\n",
       "      <td>0.049928</td>\n",
       "      <td>-0.049538</td>\n",
       "      <td>0.020383</td>\n",
       "      <td>0.149186</td>\n",
       "      <td>-0.306041</td>\n",
       "      <td>-0.321620</td>\n",
       "      <td>-0.025776</td>\n",
       "      <td>-0.072295</td>\n",
       "      <td>-0.044755</td>\n",
       "    </tr>\n",
       "    <tr>\n",
       "      <th>8522</th>\n",
       "      <td>0.126449</td>\n",
       "      <td>0.253251</td>\n",
       "      <td>-0.223640</td>\n",
       "      <td>0.238632</td>\n",
       "      <td>0.082313</td>\n",
       "      <td>-0.121551</td>\n",
       "      <td>-0.013935</td>\n",
       "      <td>-0.033202</td>\n",
       "      <td>-0.093124</td>\n",
       "      <td>-0.057649</td>\n",
       "    </tr>\n",
       "  </tbody>\n",
       "</table>\n",
       "<p>8523 rows × 10 columns</p>\n",
       "</div>"
      ],
      "text/plain": [
       "       Dayswus      Freq   Recency  Monetary       LTV  WebPurchase  WebVisit  \\\n",
       "0    -0.347682  0.109243 -0.293349  0.072820  0.233365    -0.080774 -0.012869   \n",
       "1     0.118826  0.294338 -0.094499  0.314564  0.191573    -0.192675 -0.078852   \n",
       "2     0.091302 -0.143139 -0.021189 -0.121760 -0.098475     0.118582  0.098515   \n",
       "3    -0.072627 -0.288194 -0.359654 -0.245540 -0.189479     0.292201  0.093712   \n",
       "4     0.020243  0.025825 -0.226309 -0.003120 -0.026815    -0.060523 -0.009643   \n",
       "...        ...       ...       ...       ...       ...          ...       ...   \n",
       "8518  0.294799 -0.248057  0.118708 -0.244240 -0.255560     0.079266  0.241733   \n",
       "8519 -0.134744 -0.222586 -0.125383 -0.214188 -0.188248     0.312921  0.274299   \n",
       "8520  0.192187  0.048408  0.035953  0.028653 -0.019358    -0.127691 -0.078141   \n",
       "8521 -0.360550  0.049928 -0.049538  0.020383  0.149186    -0.306041 -0.321620   \n",
       "8522  0.126449  0.253251 -0.223640  0.238632  0.082313    -0.121551 -0.013935   \n",
       "\n",
       "      Complain  Mailfriend  Emailfriend  \n",
       "0    -0.030661   -0.085998    -0.053238  \n",
       "1    -0.017763   -0.049822    -0.030843  \n",
       "2    -0.012930    0.404677     0.653701  \n",
       "3    -0.026034   -0.073019    -0.045203  \n",
       "4    -0.022974    0.719018    -0.039890  \n",
       "...        ...         ...          ...  \n",
       "8518 -0.031728   -0.088990    -0.055090  \n",
       "8519 -0.023569   -0.066105    -0.040923  \n",
       "8520 -0.017603    0.550922    -0.030565  \n",
       "8521 -0.025776   -0.072295    -0.044755  \n",
       "8522 -0.033202   -0.093124    -0.057649  \n",
       "\n",
       "[8523 rows x 10 columns]"
      ]
     },
     "execution_count": 19,
     "metadata": {},
     "output_type": "execute_result"
    }
   ],
   "source": [
    "perspective = normalized_df[['Dayswus' ,'Freq', 'Recency', 'Monetary', 'LTV','WebPurchase', 'WebVisit', 'Complain', 'Mailfriend', 'Emailfriend']]\n",
    "perspective"
   ]
  },
  {
   "cell_type": "markdown",
   "metadata": {},
   "source": [
    "# 4.K Means "
   ]
  },
  {
   "cell_type": "markdown",
   "metadata": {},
   "source": [
    "### 4.1.K-elbow plots"
   ]
  },
  {
   "cell_type": "code",
   "execution_count": 20,
   "metadata": {},
   "outputs": [
    {
     "ename": "NameError",
     "evalue": "name 'number_clusters' is not defined",
     "output_type": "error",
     "traceback": [
      "\u001b[1;31m---------------------------------------------------------------------------\u001b[0m",
      "\u001b[1;31mNameError\u001b[0m                                 Traceback (most recent call last)",
      "\u001b[1;32m<ipython-input-20-1f89fb38cd31>\u001b[0m in \u001b[0;36m<module>\u001b[1;34m\u001b[0m\n\u001b[1;32m----> 1\u001b[1;33m \u001b[0mnumber_clusters\u001b[0m\u001b[1;33m(\u001b[0m\u001b[0mperspective\u001b[0m\u001b[1;33m,\u001b[0m\u001b[0mKMeans\u001b[0m\u001b[1;33m(\u001b[0m \u001b[0minit\u001b[0m\u001b[1;33m=\u001b[0m\u001b[1;34m'k-means++'\u001b[0m\u001b[1;33m,\u001b[0m \u001b[0mn_init\u001b[0m\u001b[1;33m=\u001b[0m\u001b[1;36m15\u001b[0m\u001b[1;33m,\u001b[0m \u001b[0mrandom_state\u001b[0m\u001b[1;33m=\u001b[0m\u001b[1;36m1\u001b[0m\u001b[1;33m)\u001b[0m\u001b[1;33m)\u001b[0m\u001b[1;33m\u001b[0m\u001b[1;33m\u001b[0m\u001b[0m\n\u001b[0m",
      "\u001b[1;31mNameError\u001b[0m: name 'number_clusters' is not defined"
     ]
    }
   ],
   "source": [
    "number_clusters(perspective,KMeans( init='k-means++', n_init=15, random_state=1))"
   ]
  },
  {
   "cell_type": "markdown",
   "metadata": {},
   "source": [
    "#### 4.2.Silhouette Analysis"
   ]
  },
  {
   "cell_type": "code",
   "execution_count": null,
   "metadata": {},
   "outputs": [],
   "source": [
    "[SilhouetteVisualizer(KMeans(n_clusters=i,init='k-means++', n_init=15, random_state=1), colors='yellowbrick').fit(perspective).show() for i in range(2,7)]"
   ]
  },
  {
   "cell_type": "markdown",
   "metadata": {},
   "source": [
    "#### 4.3.Applying the clustering"
   ]
  },
  {
   "cell_type": "code",
   "execution_count": 9,
   "metadata": {},
   "outputs": [
    {
     "ename": "NameError",
     "evalue": "name 'perspective' is not defined",
     "output_type": "error",
     "traceback": [
      "\u001b[1;31m---------------------------------------------------------------------------\u001b[0m",
      "\u001b[1;31mNameError\u001b[0m                                 Traceback (most recent call last)",
      "\u001b[1;32m<ipython-input-9-72bd7af97914>\u001b[0m in \u001b[0;36m<module>\u001b[1;34m\u001b[0m\n\u001b[0;32m      2\u001b[0m \u001b[1;31m#confirmar nº de k\u001b[0m\u001b[1;33m\u001b[0m\u001b[1;33m\u001b[0m\u001b[1;33m\u001b[0m\u001b[0m\n\u001b[0;32m      3\u001b[0m \u001b[0mkmclust\u001b[0m \u001b[1;33m=\u001b[0m \u001b[0mKMeans\u001b[0m\u001b[1;33m(\u001b[0m\u001b[0mn_clusters\u001b[0m\u001b[1;33m=\u001b[0m\u001b[1;36m5\u001b[0m\u001b[1;33m,\u001b[0m \u001b[0minit\u001b[0m\u001b[1;33m=\u001b[0m\u001b[1;34m'k-means++'\u001b[0m\u001b[1;33m,\u001b[0m \u001b[0mn_init\u001b[0m\u001b[1;33m=\u001b[0m\u001b[1;36m15\u001b[0m\u001b[1;33m,\u001b[0m \u001b[0mrandom_state\u001b[0m\u001b[1;33m=\u001b[0m\u001b[1;36m1\u001b[0m\u001b[1;33m)\u001b[0m\u001b[1;33m\u001b[0m\u001b[1;33m\u001b[0m\u001b[0m\n\u001b[1;32m----> 4\u001b[1;33m \u001b[0mkm_labels\u001b[0m \u001b[1;33m=\u001b[0m \u001b[0mkmclust\u001b[0m\u001b[1;33m.\u001b[0m\u001b[0mfit_predict\u001b[0m\u001b[1;33m(\u001b[0m\u001b[0mperspective\u001b[0m\u001b[1;33m)\u001b[0m\u001b[1;33m\u001b[0m\u001b[1;33m\u001b[0m\u001b[0m\n\u001b[0m\u001b[0;32m      5\u001b[0m \u001b[0mdf_concat\u001b[0m \u001b[1;33m=\u001b[0m \u001b[0mpd\u001b[0m\u001b[1;33m.\u001b[0m\u001b[0mconcat\u001b[0m\u001b[1;33m(\u001b[0m\u001b[1;33m(\u001b[0m\u001b[0mperspective\u001b[0m\u001b[1;33m,\u001b[0m \u001b[0mpd\u001b[0m\u001b[1;33m.\u001b[0m\u001b[0mSeries\u001b[0m\u001b[1;33m(\u001b[0m\u001b[0mkm_labels\u001b[0m\u001b[1;33m,\u001b[0m \u001b[0mname\u001b[0m\u001b[1;33m=\u001b[0m\u001b[1;34m'labels'\u001b[0m\u001b[1;33m)\u001b[0m\u001b[1;33m)\u001b[0m\u001b[1;33m,\u001b[0m \u001b[0maxis\u001b[0m\u001b[1;33m=\u001b[0m\u001b[1;36m1\u001b[0m\u001b[1;33m)\u001b[0m\u001b[1;33m\u001b[0m\u001b[1;33m\u001b[0m\u001b[0m\n\u001b[0;32m      6\u001b[0m \u001b[0mdf_concat\u001b[0m\u001b[1;33m.\u001b[0m\u001b[0mgroupby\u001b[0m\u001b[1;33m(\u001b[0m\u001b[1;34m'labels'\u001b[0m\u001b[1;33m)\u001b[0m\u001b[1;33m.\u001b[0m\u001b[0mmean\u001b[0m\u001b[1;33m(\u001b[0m\u001b[1;33m)\u001b[0m\u001b[1;33m\u001b[0m\u001b[1;33m\u001b[0m\u001b[0m\n",
      "\u001b[1;31mNameError\u001b[0m: name 'perspective' is not defined"
     ]
    }
   ],
   "source": [
    "#According to the KElbowVisualizer and the SilhouetteVisualizer we were able to determine that the optimal number of clusters is 5.\n",
    "#confirmar nº de k\n",
    "kmclust = KMeans(n_clusters=5, init='k-means++', n_init=15, random_state=1)\n",
    "km_labels = kmclust.fit_predict(perspective)\n",
    "df_concat = pd.concat((perspective, pd.Series(km_labels, name='labels')), axis=1)\n",
    "df_concat.groupby('labels').mean()"
   ]
  },
  {
   "cell_type": "code",
   "execution_count": 10,
   "metadata": {},
   "outputs": [
    {
     "ename": "NameError",
     "evalue": "name 'perspective' is not defined",
     "output_type": "error",
     "traceback": [
      "\u001b[1;31m---------------------------------------------------------------------------\u001b[0m",
      "\u001b[1;31mNameError\u001b[0m                                 Traceback (most recent call last)",
      "\u001b[1;32m<ipython-input-10-8a1bd7153064>\u001b[0m in \u001b[0;36m<module>\u001b[1;34m\u001b[0m\n\u001b[0;32m      1\u001b[0m \u001b[1;31m#Making a copy of the dataset and appending a column with the cluster assigned to the observation.\u001b[0m\u001b[1;33m\u001b[0m\u001b[1;33m\u001b[0m\u001b[1;33m\u001b[0m\u001b[0m\n\u001b[1;32m----> 2\u001b[1;33m \u001b[0mkm_perspective\u001b[0m \u001b[1;33m=\u001b[0m \u001b[0mperspective\u001b[0m\u001b[1;33m.\u001b[0m\u001b[0mcopy\u001b[0m\u001b[1;33m(\u001b[0m\u001b[1;33m)\u001b[0m\u001b[1;33m\u001b[0m\u001b[1;33m\u001b[0m\u001b[0m\n\u001b[0m\u001b[0;32m      3\u001b[0m \u001b[0mkm_perspective\u001b[0m\u001b[1;33m[\u001b[0m\u001b[1;34m\"km_labels\"\u001b[0m\u001b[1;33m]\u001b[0m \u001b[1;33m=\u001b[0m \u001b[0mkm_labels\u001b[0m\u001b[1;33m\u001b[0m\u001b[1;33m\u001b[0m\u001b[0m\n",
      "\u001b[1;31mNameError\u001b[0m: name 'perspective' is not defined"
     ]
    }
   ],
   "source": [
    "#Making a copy of the dataset and appending a column with the cluster assigned to the observation.\n",
    "km_perspective = perspective.copy()\n",
    "km_perspective[\"km_labels\"] = km_labels"
   ]
  },
  {
   "cell_type": "markdown",
   "metadata": {},
   "source": [
    "### 4.4. Cluster Profile"
   ]
  },
  {
   "cell_type": "code",
   "execution_count": null,
   "metadata": {},
   "outputs": [],
   "source": [
    "cluster_profiles(km_perspective, [\"km_labels\"],(35,10), compar_titles=None)"
   ]
  },
  {
   "cell_type": "markdown",
   "metadata": {},
   "source": [
    "# 5.GMM\n",
    "### 5.1.Choosing the type of covariance"
   ]
  },
  {
   "cell_type": "code",
   "execution_count": 11,
   "metadata": {},
   "outputs": [
    {
     "ename": "NameError",
     "evalue": "name 'perspective' is not defined",
     "output_type": "error",
     "traceback": [
      "\u001b[1;31m---------------------------------------------------------------------------\u001b[0m",
      "\u001b[1;31mNameError\u001b[0m                                 Traceback (most recent call last)",
      "\u001b[1;32m<ipython-input-11-6a40ea5987ed>\u001b[0m in \u001b[0;36m<module>\u001b[1;34m\u001b[0m\n\u001b[1;32m----> 1\u001b[1;33m \u001b[0mgmm_config\u001b[0m\u001b[1;33m(\u001b[0m\u001b[0mperspective\u001b[0m\u001b[1;33m,\u001b[0m\u001b[1;36m10\u001b[0m\u001b[1;33m)\u001b[0m\u001b[1;33m\u001b[0m\u001b[1;33m\u001b[0m\u001b[0m\n\u001b[0m",
      "\u001b[1;31mNameError\u001b[0m: name 'perspective' is not defined"
     ]
    }
   ],
   "source": [
    "gmm_config(perspective,10)"
   ]
  },
  {
   "cell_type": "code",
   "execution_count": null,
   "metadata": {},
   "outputs": [],
   "source": [
    "#For the most part, the number of components the model with the lowest AIC and BIC is 'full' "
   ]
  },
  {
   "cell_type": "markdown",
   "metadata": {},
   "source": [
    "### 5.2.Find the number of components"
   ]
  },
  {
   "cell_type": "code",
   "execution_count": null,
   "metadata": {},
   "outputs": [],
   "source": [
    "gmm_components(perspective,'full',1,10) #escolher tipo onde esta 'full'"
   ]
  },
  {
   "cell_type": "code",
   "execution_count": null,
   "metadata": {},
   "outputs": [],
   "source": [
    "#According to the graph, the teams considers the optimal number of components is 3."
   ]
  },
  {
   "cell_type": "markdown",
   "metadata": {},
   "source": [
    "### 5.3.Applying the clustering"
   ]
  },
  {
   "cell_type": "code",
   "execution_count": null,
   "metadata": {},
   "outputs": [],
   "source": [
    "# Performing GMM clustering\n",
    "gmm = GaussianMixture(n_components=3, covariance_type='full', n_init=10, init_params='kmeans', random_state=1)\n",
    "gmm_labels = gmm.fit_predict(perspective)\n",
    "# Concatenating the labels to df\n",
    "df_concat = pd.concat([perspective, pd.Series(gmm_labels, index=perspective.index, name=\"gmm_labels\")], axis=1)\n",
    "df_concat.head()"
   ]
  },
  {
   "cell_type": "code",
   "execution_count": null,
   "metadata": {},
   "outputs": [],
   "source": [
    "gmm_perspective = perspective.copy()\n",
    "gmm_perspective[\"gmm_labels\"] = gmm_labels"
   ]
  },
  {
   "cell_type": "markdown",
   "metadata": {},
   "source": [
    "### 5.4.Cluster Profilling"
   ]
  },
  {
   "cell_type": "code",
   "execution_count": null,
   "metadata": {},
   "outputs": [],
   "source": [
    "cluster_profiles(gmm_perspective, [\"gmm_labels\"], (35,10) , compar_titles=None)"
   ]
  },
  {
   "cell_type": "markdown",
   "metadata": {},
   "source": [
    "# 6.SOM"
   ]
  },
  {
   "cell_type": "markdown",
   "metadata": {},
   "source": [
    "### 6.1.Clustering with SOMs: K-means SOM and  Hierarchical Clustering SOM"
   ]
  },
  {
   "cell_type": "code",
   "execution_count": null,
   "metadata": {},
   "outputs": [],
   "source": [
    "# This som implementation does not have a random seed parameter\n",
    "# We're going to set it up ourselves\n",
    "np.random.seed(42)\n",
    "\n",
    "# Notice that the SOM did not converge - We're under a time constraint for this class\n",
    "sm = sompy.SOMFactory().build(\n",
    "    perspective.values, \n",
    "    mapsize=(50, 50), \n",
    "    initialization='random',\n",
    "    neighborhood='gaussian',\n",
    "    training='batch',\n",
    "    lattice='hexa',\n",
    "    \n",
    ")\n",
    "sm.train(n_job=-1, verbose='info', train_rough_len=100, train_finetune_len=100)"
   ]
  },
  {
   "cell_type": "code",
   "execution_count": null,
   "metadata": {},
   "outputs": [],
   "source": [
    "# Coordinates of the units in the input space\n",
    "som_units=sm.get_node_vectors()"
   ]
  },
  {
   "cell_type": "code",
   "execution_count": null,
   "metadata": {},
   "outputs": [],
   "source": [
    "# Component planes on the 50x50 grid\n",
    "sns.set()\n",
    "view2D = View2D(12,12,\"\", text_size=10)\n",
    "view2D.show(sm, col_sz=3, what='codebook')\n",
    "plt.subplots_adjust(top=0.90)\n",
    "plt.suptitle(\"Component Planes\", fontsize=20)\n",
    "plt.show()"
   ]
  },
  {
   "cell_type": "code",
   "execution_count": null,
   "metadata": {},
   "outputs": [],
   "source": [
    "# U-matrix of the 50x50 grid\n",
    "u = sompy.umatrix.UMatrixView(12, 12, 'umatrix', show_axis=True, text_size=8, show_text=True)\n",
    "\n",
    "UMAT = u.show(\n",
    "    sm, \n",
    "    distance2=1, \n",
    "    row_normalized=False, \n",
    "    show_data=False, \n",
    "    contooor=True # Visualize isomorphic curves\n",
    ")"
   ]
  },
  {
   "cell_type": "code",
   "execution_count": null,
   "metadata": {},
   "outputs": [],
   "source": [
    "#HIT-MAP\n",
    "vhts  = BmuHitsView(15,15,\"Hits Map\")\n",
    "vhts.show(sm, anotate=True, onlyzeros=False, labelsize=17, cmap=\"Blues\")\n",
    "plt.show()"
   ]
  },
  {
   "cell_type": "markdown",
   "metadata": {},
   "source": [
    "### 6.1.K-Means on top of SOM units\n",
    "#### 6.1.1.Number of clusters "
   ]
  },
  {
   "cell_type": "code",
   "execution_count": null,
   "metadata": {},
   "outputs": [],
   "source": [
    "number_clusters(som_units,KMeans( init='k-means++', n_init=15, random_state=1))"
   ]
  },
  {
   "cell_type": "code",
   "execution_count": null,
   "metadata": {},
   "outputs": [],
   "source": [
    "[SilhouetteVisualizer(KMeans(n_clusters=i,init='k-means++', n_init=15, random_state=1), colors='yellowbrick').fit(som_units).show() for i in range(2,6)]"
   ]
  },
  {
   "cell_type": "markdown",
   "metadata": {},
   "source": [
    "#### 6.1.3.Apply the clustering "
   ]
  },
  {
   "cell_type": "code",
   "execution_count": null,
   "metadata": {},
   "outputs": [],
   "source": [
    "# Perform K-Means clustering on top of the 2500 untis (sm.get_node_vectors() output)\n",
    "kmeans = KMeans(n_clusters=4, init='k-means++', n_init=20, random_state=42)\n",
    "nodeclus_labels_KM = sm.cluster(kmeans)\n",
    "\n",
    "hits  = HitMapView(12, 12,\"Clustering\", text_size=10)\n",
    "hits.show(sm, anotate=True, onlyzeros=False, labelsize=7, cmap=\"Pastel1\")\n",
    "\n",
    "plt.show()"
   ]
  },
  {
   "cell_type": "code",
   "execution_count": null,
   "metadata": {},
   "outputs": [],
   "source": [
    "perspective_nodes_KM = pd.DataFrame(som_units)\n",
    "perspective_nodes_KM['label'] = nodeclus_labels_KM\n",
    "perspective_nodes_KM"
   ]
  },
  {
   "cell_type": "code",
   "execution_count": null,
   "metadata": {},
   "outputs": [],
   "source": [
    "# Obtaining SOM's BMUs labels\n",
    "bmus_map = sm.find_bmu(perspective)[0]  # get bmus for each observation in df\n",
    "\n",
    "perspective_bmus = pd.DataFrame(\n",
    "    np.concatenate((perspective, np.expand_dims(bmus_map,1)), axis=1),\n",
    "    index=perspective.index, columns=np.append(perspective.columns,\"BMU\")\n",
    ")\n",
    "perspective_bmus"
   ]
  },
  {
   "cell_type": "code",
   "execution_count": null,
   "metadata": {},
   "outputs": [],
   "source": [
    "# Get cluster labels for each observation\n",
    "perspective_final_KMSOM =perspective_bmus.merge(perspective_nodes_KM['label'], 'left', left_on=\"BMU\", right_index=True)\n",
    "perspective_final_KMSOM"
   ]
  },
  {
   "cell_type": "code",
   "execution_count": null,
   "metadata": {},
   "outputs": [],
   "source": [
    "# Characterizing the final clusters\n",
    "perspective_final_KMSOM.drop(columns='BMU').groupby('label').mean()"
   ]
  },
  {
   "cell_type": "markdown",
   "metadata": {},
   "source": [
    "### 6.1.4.Cluster Profiles"
   ]
  },
  {
   "cell_type": "code",
   "execution_count": null,
   "metadata": {},
   "outputs": [],
   "source": [
    "cluster_profiles(perspective_final_KMSOM.drop('BMU',axis=1), [\"label\"], (35,10), compar_titles=None)"
   ]
  },
  {
   "cell_type": "markdown",
   "metadata": {},
   "source": [
    "### 6.2.Hierarchical Clustering on top of SOM units\n",
    "#### 6.2.1.R2 plot"
   ]
  },
  {
   "cell_type": "code",
   "execution_count": null,
   "metadata": {},
   "outputs": [],
   "source": [
    "# Prepare input\n",
    "hc_methods = [\"ward\", \"complete\", \"average\", \"single\"]\n",
    "# Call function defined above to obtain the R2 statistic for each hc_method\n",
    "max_nclus = 10\n",
    "r2_hc_methods = np.vstack([get_r2_hc(df=pd.DataFrame(som_units), link_method=link, max_nclus=max_nclus) for link in hc_methods]).T\n",
    "r2_hc_methods = pd.DataFrame(r2_hc_methods, index=range(1, max_nclus + 1), columns=hc_methods)\n",
    "\n",
    "sns.set()\n",
    "# Plot data\n",
    "fig = plt.figure(figsize=(11,5))\n",
    "sns.lineplot(data=r2_hc_methods, linewidth=2.5, markers=[\"o\"]*4)\n",
    "\n",
    "# Finalize the plot\n",
    "fig.suptitle(\"R2 plot for various hierarchical methods\", fontsize=21)\n",
    "plt.gca().invert_xaxis()  # invert x axis\n",
    "plt.legend(title=\"HC methods\", title_fontsize=11)\n",
    "plt.xticks(range(1, max_nclus + 1))\n",
    "plt.xlabel(\"Number of clusters\", fontsize=13)\n",
    "plt.ylabel(\"R2 metric\", fontsize=13)\n",
    "\n",
    "plt.show()"
   ]
  },
  {
   "cell_type": "markdown",
   "metadata": {},
   "source": [
    "#### 6.2.2.Dendrogram"
   ]
  },
  {
   "cell_type": "code",
   "execution_count": null,
   "metadata": {},
   "outputs": [],
   "source": [
    "# setting distance_threshold=0 and n_clusters=None ensures we compute the full tree\n",
    "linkage = 'ward'\n",
    "distance = 'euclidean'\n",
    "hclust = AgglomerativeClustering(linkage=linkage, affinity=distance, distance_threshold=0, n_clusters=None)\n",
    "hclust.fit_predict(pd.DataFrame(som_units))"
   ]
  },
  {
   "cell_type": "code",
   "execution_count": null,
   "metadata": {},
   "outputs": [],
   "source": [
    "# create the counts of samples under each node (number of points being merged)\n",
    "counts = np.zeros(hclust.children_.shape[0])\n",
    "n_samples = len(hclust.labels_)\n",
    "\n",
    "# hclust.children_ contains the observation ids that are being merged together\n",
    "# At the i-th iteration, children[i][0] and children[i][1] are merged to form node n_samples + i\n",
    "for i, merge in enumerate(hclust.children_):\n",
    "    # track the number of observations in the current cluster being formed\n",
    "    current_count = 0\n",
    "    for child_idx in merge:\n",
    "        if child_idx < n_samples:\n",
    "            # If this is True, then we are merging an observation\n",
    "            current_count += 1  # leaf node\n",
    "        else:\n",
    "            # Otherwise, we are merging a previously formed cluster\n",
    "            current_count += counts[child_idx - n_samples]\n",
    "    counts[i] = current_count\n",
    "\n",
    "# the hclust.children_ is used to indicate the two points/clusters being merged (dendrogram's u-joins)\n",
    "# the hclust.distances_ indicates the distance between the two points/clusters (height of the u-joins)\n",
    "# the counts indicate the number of points being merged (dendrogram's x-axis)\n",
    "linkage_matrix = np.column_stack(\n",
    "    [hclust.children_, hclust.distances_, counts]\n",
    ").astype(float)\n",
    "\n",
    "# Plot the corresponding dendrogram\n",
    "sns.set()\n",
    "fig = plt.figure(figsize=(11,5))\n",
    "# setting the threshold\n",
    "y_threshold = 30\n",
    "dendrogram(linkage_matrix, truncate_mode='level', p=5, color_threshold=y_threshold, above_threshold_color='k')\n",
    "plt.hlines(y_threshold, 0, 1000, colors=\"r\", linestyles=\"dashed\")\n",
    "plt.title(f'Hierarchical Clustering - {linkage.title()}\\'s Dendrogram', fontsize=21)\n",
    "plt.xlabel('Number of points in node (or index of point if no parenthesis)')\n",
    "plt.ylabel(f'{distance.title()} Distance', fontsize=13)\n",
    "plt.show()"
   ]
  },
  {
   "cell_type": "code",
   "execution_count": null,
   "metadata": {},
   "outputs": [],
   "source": [
    "number_clusters(som_units, AgglomerativeClustering(linkage=linkage))"
   ]
  },
  {
   "cell_type": "markdown",
   "metadata": {},
   "source": [
    "#### 6.2.4.Applying the Clustering"
   ]
  },
  {
   "cell_type": "code",
   "execution_count": null,
   "metadata": {},
   "outputs": [],
   "source": [
    "# Perform Hierarchical clustering on top of the 2500 untis (sm.get_node_vectors() output)\n",
    "hierclust = AgglomerativeClustering(n_clusters=4, linkage='ward')\n",
    "nodeclus_labels_HC= sm.cluster(hierclust)\n",
    "\n",
    "hits  = HitMapView(12, 12,\"Clustering\",text_size=10)\n",
    "hits.show(sm, anotate=True, onlyzeros=False, labelsize=7, cmap=\"Pastel1\")\n",
    "\n",
    "plt.show()"
   ]
  },
  {
   "cell_type": "code",
   "execution_count": null,
   "metadata": {},
   "outputs": [],
   "source": [
    "# Check the nodes and and respective clusters\n",
    "nodes = sm.get_node_vectors()\n",
    "\n",
    "perspective_nodes_HC = pd.DataFrame(nodes)\n",
    "perspective_nodes_HC['label'] = nodeclus_labels_HC\n",
    "perspective_nodes_HC"
   ]
  },
  {
   "cell_type": "code",
   "execution_count": null,
   "metadata": {},
   "outputs": [],
   "source": [
    "# Obtaining SOM's BMUs labels\n",
    "bmus_map = sm.find_bmu(DEMO)[0]  # get bmus for each observation in df\n",
    "\n",
    "perspective_bmus = pd.DataFrame(\n",
    "    np.concatenate((perspective, np.expand_dims(bmus_map,1)), axis=1),\n",
    "    index=perspective.index, columns=np.append(perspective.columns,\"BMU\")\n",
    ")\n",
    "perspective_bmus"
   ]
  },
  {
   "cell_type": "code",
   "execution_count": null,
   "metadata": {},
   "outputs": [],
   "source": [
    "# Get cluster labels for each observation\n",
    "perspective_final_HC = DEMO_bmus.merge(DEMO_nodes_HC['label'], 'left', left_on=\"BMU\", right_index=True)\n",
    "perspective_final_HC"
   ]
  },
  {
   "cell_type": "code",
   "execution_count": null,
   "metadata": {},
   "outputs": [],
   "source": [
    "# Characterizing the final clusters\n",
    "perspective_final_HC.drop(columns='BMU').groupby('label').mean()"
   ]
  },
  {
   "cell_type": "markdown",
   "metadata": {},
   "source": [
    "#### 6.2.5.Cluster Profiles"
   ]
  },
  {
   "cell_type": "code",
   "execution_count": null,
   "metadata": {},
   "outputs": [],
   "source": [
    "cluster_profiles(perspective_final_HC.drop('BMU',axis=1), [\"label\"], (35,10), compar_titles=None)"
   ]
  },
  {
   "cell_type": "code",
   "execution_count": null,
   "metadata": {},
   "outputs": [],
   "source": [
    "#creating a csv file to afterwards import to the merging notebook.\n",
    "perspective_final_HC.to_csv('Demo(HC+SOM).csv',sep=';',index=False)"
   ]
  }
 ],
 "metadata": {
  "kernelspec": {
   "display_name": "Python 3",
   "language": "python",
   "name": "python3"
  },
  "language_info": {
   "codemirror_mode": {
    "name": "ipython",
    "version": 3
   },
   "file_extension": ".py",
   "mimetype": "text/x-python",
   "name": "python",
   "nbconvert_exporter": "python",
   "pygments_lexer": "ipython3",
   "version": "3.8.3"
  }
 },
 "nbformat": 4,
 "nbformat_minor": 4
}
